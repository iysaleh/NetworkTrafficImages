{
 "cells": [
  {
   "cell_type": "code",
   "execution_count": 1,
   "metadata": {},
   "outputs": [
    {
     "name": "stderr",
     "output_type": "stream",
     "text": [
      "Using TensorFlow backend.\n"
     ]
    }
   ],
   "source": [
    "import keras\n",
    "from keras.models import Sequential\n",
    "from keras.layers import Dense, Activation, Dropout \n",
    "from keras.layers import Conv2D, MaxPooling2D, Flatten\n",
    "from keras.utils import np_utils\n",
    "from keras.regularizers import l2, l1\n",
    "from keras.callbacks import EarlyStopping\n",
    "from keras.callbacks import Callback\n",
    "from sklearn.svm import SVC, LinearSVC, NuSVC\n",
    "from sklearn import svm\n",
    "from keras.models import Model\n",
    "from sklearn.model_selection import train_test_split\n",
    "from keras.models import Model\n",
    "from keras.optimizers import SGD,RMSprop,Adagrad,Adadelta,Adam,Adamax,Nadam\n",
    "from keras.layers.noise import GaussianNoise, GaussianDropout\n",
    "import numpy as np\n",
    "import csv\n",
    "import os\n",
    "\n",
    "import tensorflow as tf\n",
    "from keras.backend.tensorflow_backend import set_session\n",
    "config = tf.ConfigProto()\n",
    "config.gpu_options.per_process_gpu_memory_fraction = 0.7\n",
    "set_session(tf.Session(config=config))\n",
    "\n",
    "\n",
    "from sklearn import preprocessing\n",
    "from sklearn.model_selection import train_test_split\n",
    "\n",
    "import matplotlib.pyplot as plt\n",
    "# When you execute a code to plot with a simple SHIFT-ENTER, the plot will be shown directly under the code cell\n",
    "%matplotlib inline"
   ]
  },
  {
   "cell_type": "code",
   "execution_count": 46,
   "metadata": {},
   "outputs": [],
   "source": [
    "nti_type = 'linear'\n",
    "nti_dim_x = '17'\n",
    "nti_dim_y = '17'\n",
    "#Src\n",
    "nti_src = os.getcwd()  #Working from Current Working Directory\n",
    "#Train\n",
    "csv_output_train_data = 'ntis_%s_%sx%s_train_data.csv' % (nti_type,nti_dim_x,nti_dim_y)\n",
    "csv_output_train_target_bulk_vs_all = 'ntis_%s_%sx%s_train_target_bulk_vs_all.csv' % (nti_type,nti_dim_x,nti_dim_y)\n",
    "csv_output_train_target_qos = 'ntis_%s_%sx%s_train_target_qos.csv' % (nti_type,nti_dim_x,nti_dim_y)\n",
    "csv_output_train_target_classes = 'ntis_%s_%sx%s_train_target_classes.csv' % (nti_type,nti_dim_x,nti_dim_y)\n",
    "#Test\n",
    "csv_output_test_data = 'ntis_%s_%sx%s_test_data.csv' % (nti_type,nti_dim_x,nti_dim_y)\n",
    "csv_output_test_target_bulk_vs_all = 'ntis_%s_%sx%s_test_target_bulk_vs_all.csv' % (nti_type,nti_dim_x,nti_dim_y)\n",
    "csv_output_test_target_qos = 'ntis_%s_%sx%s_test_target_qos.csv' % (nti_type,nti_dim_x,nti_dim_y)\n",
    "csv_output_test_target_classes = 'ntis_%s_%sx%s_test_target_classes.csv' % (nti_type,nti_dim_x,nti_dim_y)\n",
    "\n",
    "#0day-Test\n",
    "csv_output_test_0day_data = 'ntis_%s_%sx%s_test_0day_data.csv' % (nti_type,nti_dim_x,nti_dim_y)\n",
    "csv_output_test_target_0day_bulk_vs_all = 'ntis_%s_%sx%s_test_0day_target_bulk_vs_all.csv' % (nti_type,nti_dim_x,nti_dim_y)\n",
    "csv_output_test_target_0day_qos = 'ntis_%s_%sx%s_test_0day_target_qos.csv' % (nti_type,nti_dim_x,nti_dim_y)\n",
    "csv_output_test_target_0day_classes = 'ntis_%s_%sx%s_test_0day_target_classes.csv' % (nti_type,nti_dim_x,nti_dim_y)\n",
    "\n",
    "\n",
    "#train_datafile = 'train_data.csv'\n",
    "#target_datafile = 'train_target.csv'\n",
    "#test_datafile = 'test_data.csv'\n",
    "\n",
    "data = np.loadtxt(fname=csv_output_train_data,delimiter=',')\n",
    "#Remove solo target when doing target_classes/qos/bulk\n",
    "target = np.loadtxt(fname=csv_output_train_target_bulk_vs_all,delimiter=',')\n",
    "#target_classes = np.loadtxt(fname=csv_output_train_target_classes,delimiter=',')\n",
    "#target_qos = np.loadtxt(fname=csv_output_train_target_qos,delimiter=',')\n",
    "#target_bulk = np.loadtxt(fname=csv_output_train_target_bulk_vs_all,delimiter=',')\n",
    "test = np.loadtxt(fname=csv_output_test_data,delimiter=',')\n",
    "##Remove solo test target when doing target_classes/qos/bulk\n",
    "test_target_load = np.loadtxt(fname=csv_output_test_target_bulk_vs_all,delimiter=',')\n",
    "\n",
    "test_0day = np.loadtxt(fname=csv_output_test_0day_data,delimiter=',')\n",
    "test_target_load_0day = np.loadtxt(fname=csv_output_test_target_0day_bulk_vs_all,delimiter=',')\n",
    "#test_target_classes = np.loadtxt(fname=csv_output_test_target_classes,delimiter=',')\n",
    "#test_target_qos = np.loadtxt(fname=csv_output_test_target_qos,delimiter=',')\n",
    "#test_target_bulk = np.loadtxt(fname=csv_output_test_target_bulk_vs_all,delimiter=',')\n",
    "\n",
    "#Remove solo target classes when doing target_classes/qos/bulk\n",
    "num_target_classes = 2\n",
    "#num_target_classes_classes = 5\n",
    "#num_target_classes_qos = 3\n",
    "#num_target_classes_bulk = 2\n",
    "image_len = int(nti_dim_x)\n",
    "image_wid = int(nti_dim_y)"
   ]
  },
  {
   "cell_type": "code",
   "execution_count": 47,
   "metadata": {},
   "outputs": [],
   "source": [
    "#Reshape as needed! See notes here for shaping https://keras.io/datasets/#mnist-database-of-handwritten-digits\n",
    "train_data = data.reshape(len(data),image_len,image_wid,1)\n",
    "train_target = target.reshape(len(target))\n",
    "test_data = test.reshape(len(test),image_len,image_wid,1)\n",
    "test_target_vals = test_target_load.reshape(len(test_target_load))\n",
    "test_data_0day = test_0day.reshape(len(test_0day),image_len,image_wid,1)\n",
    "test_target_vals_0day = test_target_load_0day.reshape(len(test_target_load_0day))\n",
    "\n",
    "\n",
    "train_data,validation_data,train_target,validation_target = train_test_split(train_data,(train_target[:, np.newaxis]), test_size=0.12, random_state=42)\n",
    "\n",
    "#Need floats!!!!\n",
    "train_data = train_data.astype('float64')\n",
    "test_data = test_data.astype('float64')\n",
    "validation_data = validation_data.astype('float64')\n",
    "\n",
    "#Change integer classification targets to categorical binary matrices EG: (0,0,1),(0,1,0),(1,0,0)\n",
    "train_target = np_utils.to_categorical(train_target,num_target_classes)\n",
    "validation_target = np_utils.to_categorical(validation_target,num_target_classes)\n",
    "#test_target = np_utils.to_categorical(test_target_vals,num_target_classes)\n"
   ]
  },
  {
   "cell_type": "code",
   "execution_count": 4,
   "metadata": {},
   "outputs": [],
   "source": [
    "#Modified callback from https://github.com/fchollet/keras/issues/114\n",
    "class EarlyStoppingByValAcc(Callback):\n",
    "    def __init__(self, monitor='val_acc', value=0.80, verbose=0):\n",
    "        super(Callback, self).__init__()\n",
    "        self.monitor = monitor\n",
    "        self.value = value\n",
    "        self.verbose = verbose\n",
    "\n",
    "    def on_epoch_end(self, epoch, logs={}):\n",
    "        current = logs.get(self.monitor)\n",
    "        if current is None:\n",
    "            print(\"Early stopping requires %s available!\" % self.monitor)\n",
    "            exit()\n",
    "\n",
    "        if current > self.value:\n",
    "            if self.verbose > 0:\n",
    "                print(\"Epoch %05d: early stopping THR\" % epoch)\n",
    "            self.model.stop_training = True"
   ]
  },
  {
   "cell_type": "code",
   "execution_count": 11,
   "metadata": {},
   "outputs": [
    {
     "name": "stdout",
     "output_type": "stream",
     "text": [
      "Training data matrix shape (316800, 17, 17, 1)\n",
      "Validation data matrix shape (43200, 17, 17, 1)\n",
      "Training target matrix shape (316800, 2)\n",
      "Validation target matrix shape (43200, 2)\n"
     ]
    }
   ],
   "source": [
    "print(\"Training data matrix shape\", train_data.shape)\n",
    "print(\"Validation data matrix shape\", validation_data.shape)\n",
    "print(\"Training target matrix shape\", train_target.shape)\n",
    "print(\"Validation target matrix shape\", validation_target.shape)\n",
    "#print(train_data[0])"
   ]
  },
  {
   "cell_type": "code",
   "execution_count": 20,
   "metadata": {},
   "outputs": [
    {
     "name": "stdout",
     "output_type": "stream",
     "text": [
      "Train on 316800 samples, validate on 43200 samples\n",
      "Epoch 1/150\n",
      "316800/316800 [==============================] - 303s - loss: 0.2563 - acc: 0.8814 - val_loss: 0.0459 - val_acc: 0.9807\n"
     ]
    }
   ],
   "source": [
    "#This cell will be for a CNN implementation of the model\n",
    "model = Sequential()\n",
    "model.add(Conv2D(128, kernel_size=(3, 3),activation='relu',padding='same', input_shape=(image_len,image_wid,1)))\n",
    "model.add(Conv2D(128, (3, 3),padding='same', activation='relu'))\n",
    "#Dead here\n",
    "model.add(MaxPooling2D(pool_size=(2, 2),data_format=\"channels_last\"))\n",
    "\n",
    "model.add(GaussianNoise(0.20))\n",
    "\n",
    "model.add(Conv2D(128, kernel_size=(3, 3),activation='relu',padding='same',input_shape=(image_len,image_wid,1)))\n",
    "model.add(Conv2D(128, (3, 3),padding='same', activation='relu'))\n",
    "#Dead here2\n",
    "model.add(MaxPooling2D(pool_size=(2, 2), data_format=\"channels_last\"))\n",
    "\n",
    "model.add(GaussianDropout(0.4))\n",
    "#model.add(Dense(256, activation='relu'))\n",
    "\n",
    "model.add(Conv2D(256, kernel_size=(3, 3),activation='relu',padding='same', input_shape=(image_len,image_wid,1)))\n",
    "model.add(Conv2D(256, (3, 3),padding='same', activation='relu'))\n",
    "#Dead here3\n",
    "model.add(MaxPooling2D(pool_size=(2, 2), data_format=\"channels_last\"))\n",
    "\n",
    "model.add(GaussianNoise(0.20))\n",
    "#model.add(Dense(256, activation='relu'))\n",
    "model.add(GaussianDropout(0.4))\n",
    "\n",
    "model.add(Conv2D(512, kernel_size=(3, 3),activation='relu',padding='same', input_shape=(image_len,image_wid,1)))\n",
    "model.add(Conv2D(512, (3, 3),padding='same', activation='relu'))\n",
    "#Dead here 4\n",
    "model.add(MaxPooling2D(pool_size=(2, 2), data_format=\"channels_last\"))\n",
    "\n",
    "model.add(GaussianNoise(0.35))\n",
    "#model.add(Dense(256, activation='relu'))\n",
    "\n",
    "model.add(Conv2D(1024, kernel_size=(3, 3),activation='relu',padding='same', input_shape=(image_len,image_wid,1)))\n",
    "model.add(Conv2D(1024, (3, 3),padding='same', activation='relu'))\n",
    "#Dead here5\n",
    "#model.add(MaxPooling2D(pool_size=(2, 2), data_format=\"channels_last\"))\n",
    "\n",
    "model.add(GaussianDropout(0.25))\n",
    "model.add(Flatten(name='flatten_conv'))\n",
    "\n",
    "model.add(Dense(128, activation='relu',name='final_dense'))\n",
    "#model.add(Dense(512, activation='relu',name='final_dense'))\n",
    "\n",
    "\n",
    "#model.add(Dense(128, activation='relu',name='final_dense'))\n",
    "#model.add(Dense(128, activation='relu',name='final_dense',kernel_regularizer=l2(.01)))\n",
    "#model.add(Dropout(0.5))\n",
    "model.add(Dense(num_target_classes, activation='softmax',name='final_output'))\n",
    "#model.add(Dense(num_target_classes, activation='linear',kernel_regularizer=l2(.01)))\n",
    "\n",
    "#model.compile(loss=keras.losses.categorical_crossentropy,optimizer=keras.optimizers.Adadelta(),metrics=['accuracy'])\n",
    "model.compile(loss=keras.losses.categorical_crossentropy,optimizer=Adadelta(),metrics=['accuracy'])\n",
    "#model.compile(loss=keras.losses.hinge,optimizer=keras.optimizers.Adadelta(),metrics=['accuracy'])\n",
    "\n",
    "early_stopping_on_val_acc = EarlyStoppingByValAcc(monitor='val_acc',value=.95,verbose=0) ##HEHE-95% :)\n",
    "\n",
    "#early_stopping = keras.callbacks.EarlyStopping(monitor='val_acc', patience=15,min_delta=.005, verbose=1, mode='max')\n",
    "history = model.fit(train_data, train_target,batch_size=128,epochs=20,verbose=1,validation_data=(validation_data,validation_target),callbacks=[early_stopping_on_val_acc])\n",
    "#history = model.fit(train_data, train_target,batch_size=128,epochs=150,verbose=1,validation_data=(validation_data,validation_target))"
   ]
  },
  {
   "cell_type": "code",
   "execution_count": 21,
   "metadata": {},
   "outputs": [
    {
     "name": "stdout",
     "output_type": "stream",
     "text": [
      "Train accuracy:  0.881433080808\n",
      "Validation accuracy:  0.980740740741\n"
     ]
    },
    {
     "data": {
      "image/png": "[encoded data removed]",
      "text/plain": [
       "<matplotlib.figure.Figure at 0x18af6da0>"
      ]
     },
     "metadata": {},
     "output_type": "display_data"
    }
   ],
   "source": [
    "print('Train accuracy: ', history.history['acc'][-1])\n",
    "print('Validation accuracy: ', history.history['val_acc'][-1])\n",
    "plt.plot(history.history['acc'])\n",
    "plt.plot(history.history['val_acc'])\n",
    "plt.title('model accuracy')\n",
    "plt.ylabel('accuracy')\n",
    "plt.xlabel('epoch')\n",
    "plt.legend(['train'], loc='upper left')\n",
    "plt.show()"
   ]
  },
  {
   "cell_type": "code",
   "execution_count": 52,
   "metadata": {},
   "outputs": [],
   "source": [
    "#Save model\n",
    "model.save(\"%s_%sx%s_model_bulk.h5\"%(nti_type,nti_dim_x,nti_dim_y))"
   ]
  },
  {
   "cell_type": "code",
   "execution_count": 50,
   "metadata": {},
   "outputs": [
    {
     "name": "stdout",
     "output_type": "stream",
     "text": [
      "Predictions matrix shape (120000, 2)\n"
     ]
    }
   ],
   "source": [
    "predictions=model.predict(test_data)\n",
    "final_predictions = predictions.argmax(1)\n",
    "predictions_0day=model.predict(test_data_0day)\n",
    "final_predictions_0day = predictions.argmax(1)\n",
    "\n",
    "print(\"Predictions matrix shape\", predictions.shape)\n",
    "with open('%s_%sx%s_predictions.csv'%(nti_type,nti_dim_x,nti_dim_y),'w',newline='') as csvfile:\n",
    "    csvwriter = csv.writer(csvfile,delimiter=',')\n",
    "    csvwriter.writerow(['Id','Category'])\n",
    "    for index,prediction in enumerate(final_predictions):\n",
    "        #print(index,prediction)\n",
    "        csvwriter.writerow([index,prediction])\n",
    "with open('%s_%sx%s_predictions_0day.csv'%(nti_type,nti_dim_x,nti_dim_y),'w',newline='') as csvfile:\n",
    "    csvwriter = csv.writer(csvfile,delimiter=',')\n",
    "    csvwriter.writerow(['Id','Category'])\n",
    "    for index,prediction in enumerate(final_predictions_0day):\n",
    "        #print(index,prediction)\n",
    "        csvwriter.writerow([index,prediction])"
   ]
  },
  {
   "cell_type": "code",
   "execution_count": 51,
   "metadata": {},
   "outputs": [
    {
     "name": "stdout",
     "output_type": "stream",
     "text": [
      "Total Test Accuracy: 97.53500000000001\n",
      "Total 0-Day Test Accuracy: 58.76916666666666\n"
     ]
    }
   ],
   "source": [
    "def evaluate_test_predictions(test_target_vals,final_predictions):\n",
    "    numCorrect = 0\n",
    "    numTotal = 0\n",
    "    for index,prediction in enumerate(final_predictions):\n",
    "        if prediction==int(round(test_target_vals[index])):\n",
    "            numCorrect+=1\n",
    "        numTotal+=1\n",
    "    return(numCorrect/numTotal*100)\n",
    "test_accuracy = evaluate_test_predictions(test_target_vals,final_predictions)\n",
    "test_accuracy_0day = evaluate_test_predictions(test_target_vals_0day,final_predictions_0day)\n",
    "print(\"Total Test Accuracy:\",test_accuracy)\n",
    "print(\"Total 0-Day Test Accuracy:\",test_accuracy_0day)"
   ]
  },
  {
   "cell_type": "code",
   "execution_count": null,
   "metadata": {},
   "outputs": [],
   "source": []
  }
 ],
 "metadata": {
  "kernelspec": {
   "display_name": "Python 3",
   "language": "python",
   "name": "python3"
  },
  "language_info": {
   "codemirror_mode": {
    "name": "ipython",
    "version": 3
   },
   "file_extension": ".py",
   "mimetype": "text/x-python",
   "name": "python",
   "nbconvert_exporter": "python",
   "pygments_lexer": "ipython3",
   "version": "3.5.3"
  }
 },
 "nbformat": 4,
 "nbformat_minor": 2
}
