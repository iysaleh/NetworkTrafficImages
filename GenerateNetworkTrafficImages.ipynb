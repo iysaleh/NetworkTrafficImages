{
 "cells": [
  {
   "cell_type": "code",
   "execution_count": 2,
   "metadata": {},
   "outputs": [
    {
     "data": {
      "text/plain": [
       "'\\nProcess:\\n    1) Ingest pre-processed packet stream\\n    2) rewrite packet stream into network traffic images using predefined patterns\\n'"
      ]
     },
     "execution_count": 2,
     "metadata": {},
     "output_type": "execute_result"
    }
   ],
   "source": [
    "import matplotlib\n",
    "import re\n",
    "import os\n",
    "import sys\n",
    "import time\n",
    "from datetime import datetime\n",
    "\n",
    "##CurrentStep: Figure out file management for NTIs\n",
    "\n",
    "'''\n",
    "Process:\n",
    "    1) Ingest pre-processed packet stream\n",
    "    2) rewrite packet stream into network traffic images using predefined patterns\n",
    "'''"
   ]
  },
  {
   "cell_type": "code",
   "execution_count": 3,
   "metadata": {},
   "outputs": [],
   "source": [
    "capture_src = 'captures_split'\n",
    "capture_dst = 'captures_networkTrafficImages'\n",
    "packet_match_regex = r'(?P<packetTime>\\d+-\\d+-\\d+\\W\\d+:\\d+:\\d+\\.\\d+)\\WIP.*proto\\W(?P<proto>\\w+).*length\\W(?P<ipLength>\\d+).*\\r?\\n\\W*(?P<srcHost>[\\w\\.\\-]+)\\.(?P<srcPort>[\\w]+)\\W\\>\\W(?P<dstHost>[\\w\\.\\-]+)\\.(?P<dstPort>[\\w]+).*length\\W(?P<tcpLength>\\d+).*'\n",
    "time_format_string = '%Y-%m-%d %H:%M:%S.%f' #Predefined Time format string used in tcpdump captures"
   ]
  },
  {
   "cell_type": "code",
   "execution_count": 4,
   "metadata": {},
   "outputs": [],
   "source": [
    "def get_connection_string(packet):\n",
    "    return \"%s:%s,%s:%s,%s\"%(packet.src_host,packet.src_port,packet.dst_host,packet.dst_port,packet.proto)\n",
    "def get_connection_string_reversed(packet):\n",
    "    return \"%s:%s,%s:%s,%s\"%(packet.dst_host,packet.dst_port,packet.src_host,packet.src_port,packet.proto)\n",
    "def time_string_to_datetime(time_string):\n",
    "    return datetime.strptime(time_string,time_format_string)\n",
    "def datetime_to_timestring(datetime_time):\n",
    "    return datetime_time.strftime(time_format_string)"
   ]
  },
  {
   "cell_type": "code",
   "execution_count": 5,
   "metadata": {},
   "outputs": [],
   "source": [
    "class packet:\n",
    "    packet_string = \"\"\n",
    "    src_host = \"\"\n",
    "    src_port = \"\"\n",
    "    dst_host = \"\"\n",
    "    dst_port = \"\"\n",
    "    proto = \"\"\n",
    "    ip_length = 0\n",
    "    tcp_length = 0\n",
    "    packet_time = None\n",
    "    def __init__(self,src_host,src_port,dst_host,dst_port,proto,packet_string,ip_length,tcp_length,packet_time_str):\n",
    "        self.src_host = src_host\n",
    "        self.src_port = src_port\n",
    "        self.dst_host = dst_host\n",
    "        self.dst_port = dst_port\n",
    "        self.proto = proto\n",
    "        self.packet_string = packet_string\n",
    "        self.ip_length = int(ip_length)\n",
    "        self.tcp_length = int(tcp_length)\n",
    "        self.packet_time = datetime.strptime(packet_time_str,time_format_string)\n",
    "    def to_string(self):\n",
    "        print(\"srcHost:%s\\nsrcPort:%s\\ndstHost:%s\\ndstPort:%s\\nproto:%s\\n\" % (self.src_host,self.src_port,self.dst_host,self.dst_port,self.proto))"
   ]
  },
  {
   "cell_type": "code",
   "execution_count": 6,
   "metadata": {},
   "outputs": [],
   "source": [
    "def get_packets_in_file(capture_file):\n",
    "    line_one = ''\n",
    "    line_two = ''\n",
    "    packets = list()\n",
    "    with open(capture_file,'r') as src:\n",
    "        for line in src:\n",
    "            line_one = line_two\n",
    "            line_two = line\n",
    "            line_pair = line_one + line_two\n",
    "            \n",
    "            packet_match = re.match(packet_match_regex,line_pair,re.MULTILINE)\n",
    "            if(packet_match):\n",
    "                cur_packet = packet(packet_match.group('srcHost'),packet_match.group('srcPort'),packet_match.group('dstHost'),packet_match.group('dstPort'),packet_match.group('proto'),line_pair,packet_match.group('ipLength'),packet_match.group('tcpLength'),packet_match.group('packetTime'))\n",
    "                packets.append(cur_packet)\n",
    "    return packets"
   ]
  },
  {
   "cell_type": "code",
   "execution_count": null,
   "metadata": {},
   "outputs": [],
   "source": [
    "def generate_linear_ntis(packet_list,nti_x_max,nti_y_max,output_dir,base_filename):\n",
    "    pass"
   ]
  },
  {
   "cell_type": "code",
   "execution_count": 11,
   "metadata": {},
   "outputs": [
    {
     "name": "stdout",
     "output_type": "stream",
     "text": [
      "captures_split\\games\\hon\\hon_raw_capture10\\hon_raw_capture10.0.cap\n",
      "captures_split_split\\games\\hon\\hon_raw_capture10\\hon_raw_capture10.0\n",
      "hon_raw_capture10.0\n"
     ]
    }
   ],
   "source": [
    "try:\n",
    "    for x in os.walk(capture_src): #each os.walk element is: dirpath, subdir-names, dir-filenames\n",
    "        outdir = x[0].replace(capture_src,capture_dst)\n",
    "        try:\n",
    "            os.mkdir(outdir)\n",
    "        except FileExistsError:\n",
    "            pass #We don't care if the directory already exists\n",
    "        for capture in x[2]:\n",
    "            if capture.endswith(\".cap\"):\n",
    "                base_file = capture[:-4]\n",
    "                date_file = base_file + '.date'\n",
    "                src_file = x[0]+os.sep+capture\n",
    "                output_dir = (x[0]+os.sep+base_file).replace(capture_src,capture_dst)\n",
    "                print(src_file)\n",
    "                print(split_dir)\n",
    "                print(base_file)\n",
    "                packets = get_packets_in_file(src_file)\n",
    "                generate_linear_ntis(packets,16,16,output_dir,base_file)\n",
    "                raise KeyboardInterrupt\n",
    "                        \n",
    "except KeyboardInterrupt:\n",
    "    pass\n",
    "            "
   ]
  },
  {
   "cell_type": "code",
   "execution_count": 53,
   "metadata": {},
   "outputs": [],
   "source": [
    "#Isolate the outputs into <src_name>.connectionNumber.cap\n",
    "##Then plot the connections onto a single graph.\n",
    "###The dominant connection in a packet capture is the one you keep"
   ]
  },
  {
   "cell_type": "code",
   "execution_count": null,
   "metadata": {},
   "outputs": [],
   "source": []
  }
 ],
 "metadata": {
  "kernelspec": {
   "display_name": "Python 3",
   "language": "python",
   "name": "python3"
  },
  "language_info": {
   "codemirror_mode": {
    "name": "ipython",
    "version": 3
   },
   "file_extension": ".py",
   "mimetype": "text/x-python",
   "name": "python",
   "nbconvert_exporter": "python",
   "pygments_lexer": "ipython3",
   "version": "3.6.6"
  }
 },
 "nbformat": 4,
 "nbformat_minor": 2
}
