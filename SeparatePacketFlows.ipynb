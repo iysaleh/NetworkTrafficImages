{
 "cells": [
  {
   "cell_type": "code",
   "execution_count": 4,
   "metadata": {},
   "outputs": [],
   "source": [
    "import matplotlib\n",
    "import re\n",
    "import os\n",
    "import sys"
   ]
  },
  {
   "cell_type": "code",
   "execution_count": 5,
   "metadata": {},
   "outputs": [],
   "source": [
    "capture_src = 'captures'\n",
    "capture_dst = 'captures_split'\n",
    "processed = 'processed_log.txt'"
   ]
  },
  {
   "cell_type": "code",
   "execution_count": null,
   "metadata": {},
   "outputs": [],
   "source": [
    "class packet:\n",
    "    packet_string = \"\"\n",
    "    ip_length = 0\n",
    "    tcp_length = 0\n",
    "    receive_time = 0"
   ]
  },
  {
   "cell_type": "code",
   "execution_count": 13,
   "metadata": {},
   "outputs": [],
   "source": [
    "def get_packets_in_file(capture_file):\n",
    "    '''\n",
    "    packet_capture_file = open(capture_file,'r')\n",
    "    packet_capture_records = packet_capture_file.read()\n",
    "    packet_capture_file.close()\n",
    "    packets = re.findall(\".*IP.*length.*Flags.*length.*\\n\",packet_capture_records,re.MULTILINE)\n",
    "    '''\n",
    "    \n",
    "    line_one = ''\n",
    "    line_two = ''\n",
    "    packets = list()\n",
    "    with open(capture_file,'r') as src:\n",
    "        for line in src:\n",
    "            line_one = line_two\n",
    "            line_two = line\n",
    "            line_pair = line_one + line_two\n",
    "            \n",
    "            packet_match = re.match(r'.*IP.*length.*\\r?\\n.*Flags.*length.*',line_pair,re.MULTILINE)\n",
    "            \n",
    "            if(packet_match):\n",
    "                print(line_pair)\n",
    "                raise KeyboardInterrupt\n",
    "            \n",
    "    \n",
    "    return packets"
   ]
  },
  {
   "cell_type": "code",
   "execution_count": 14,
   "metadata": {},
   "outputs": [
    {
     "name": "stdout",
     "output_type": "stream",
     "text": [
      "2018-09-30 00:27:33.133058 IP (tos 0x10, ttl 64, id 40973, offset 0, flags [DF], proto TCP (6), length 104)\n",
      "    ShadowSense.shadowdomain.ssh > Shadowscout.shadowdomain.52303: Flags [P.], cksum 0xb439 (correct), seq 2878089682:2878089746, ack 1345784929, win 513, length 64\n",
      "\n"
     ]
    }
   ],
   "source": [
    "try:\n",
    "    for x in os.walk(capture_src): #each os.walk element is: dirpath, subdir-names, dir-filenames\n",
    "        outdir = x[0].replace(capture_src,capture_dst)\n",
    "        try:\n",
    "            os.mkdir(outdir)\n",
    "        except FileExistsError:\n",
    "            pass #We don't care if the directory already exists\n",
    "        for capture in x[2]:\n",
    "            if capture.endswith(\".cap\"):\n",
    "                base_file = capture[:-4]\n",
    "                date_file = base_file + '.date'\n",
    "                capture_packets = get_packets_in_file(x[0]+\"\\\\\"+capture)\n",
    "                \n",
    "                for packet in capture_packets:\n",
    "                    print(packet)\n",
    "                    raise KeyboardInterrupt\n",
    "\n",
    "                        \n",
    "except KeyboardInterrupt:\n",
    "    pass\n",
    "            \n",
    "    #print(outdir)"
   ]
  },
  {
   "cell_type": "code",
   "execution_count": null,
   "metadata": {},
   "outputs": [],
   "source": [
    "#Isolate the outputs into <src_name>.connectionNumber.cap\n",
    "##Then plot the connections onto a single graph.\n",
    "###The dominant connection in a packet capture is the one you keep"
   ]
  }
 ],
 "metadata": {
  "kernelspec": {
   "display_name": "Python 3",
   "language": "python",
   "name": "python3"
  },
  "language_info": {
   "codemirror_mode": {
    "name": "ipython",
    "version": 3
   },
   "file_extension": ".py",
   "mimetype": "text/x-python",
   "name": "python",
   "nbconvert_exporter": "python",
   "pygments_lexer": "ipython3",
   "version": "3.5.3"
  }
 },
 "nbformat": 4,
 "nbformat_minor": 2
}
