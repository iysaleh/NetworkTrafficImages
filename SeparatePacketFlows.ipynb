{
 "cells": [
  {
   "cell_type": "code",
   "execution_count": 96,
   "metadata": {},
   "outputs": [],
   "source": [
    "import matplotlib\n",
    "import re\n",
    "import os\n",
    "import sys\n",
    "\n",
    "##Current Step: Start plotting connection indexes by IP Header Size\n",
    "##Plot connections that use most bandwidth -- using IP Header averages. (Top 10 for game connections etc)"
   ]
  },
  {
   "cell_type": "code",
   "execution_count": 97,
   "metadata": {},
   "outputs": [],
   "source": [
    "capture_src = 'captures'\n",
    "capture_dst = 'captures_split'\n",
    "processed = 'processed_log.txt'\n",
    "packet_match_regex = r'.*IP.*proto\\W(?P<proto>\\w+).*length\\W(?P<ipLength>\\d+).*\\r?\\n\\W*(?P<srcHost>[\\w\\.\\-]+)\\.(?P<srcPort>[\\w]+)\\W\\>\\W(?P<dstHost>[\\w\\.\\-]+)\\.(?P<dstPort>[\\w]+).*Flags.*length\\W(?P<tcpLength>\\d+).*'"
   ]
  },
  {
   "cell_type": "code",
   "execution_count": 98,
   "metadata": {},
   "outputs": [],
   "source": [
    "class connection_map:\n",
    "    connection_list = list()\n",
    "    def __init__(self):\n",
    "        self.connection_list = list()\n",
    "    def get_connection_index(self,packet):\n",
    "        connection_string = \"%s:%s,%s:%s,%s\"%(packet.src_host,packet.src_port,packet.dst_host,packet.dst_port,packet.proto)\n",
    "        try:\n",
    "            connection_index = self.connection_list.index(connection_string)\n",
    "            return connection_index\n",
    "        except ValueError:\n",
    "            self.connection_list.append(connection_string)\n",
    "            return self.connection_list.index(connection_string)\n",
    "    def write_connection_map_to_file(self,file):\n",
    "        with open(file,'w') as connection_map_file:\n",
    "            for idx,connection_string in enumerate(self.connection_list):\n",
    "                connection_map_file.write(str(idx)+\",\"+connection_string+'\\n')\n"
   ]
  },
  {
   "cell_type": "code",
   "execution_count": 99,
   "metadata": {},
   "outputs": [],
   "source": [
    "class packet:\n",
    "    packet_string = \"\"\n",
    "    src_host = \"\"\n",
    "    src_port = \"\"\n",
    "    dst_host = \"\"\n",
    "    dst_port = \"\"\n",
    "    proto = \"\"\n",
    "    ip_length = 0\n",
    "    tcp_length = 0\n",
    "    def __init__(self,src_host,src_port,dst_host,dst_port,proto,packet_string,ip_length,tcp_length):\n",
    "        self.src_host = src_host\n",
    "        self.src_port = src_port\n",
    "        self.dst_host = dst_host\n",
    "        self.dst_port = dst_port\n",
    "        self.proto = proto\n",
    "        self.packet_string = packet_string\n",
    "        self.ip_length = ip_length\n",
    "        self.tcp_length = tcp_length\n",
    "    def to_string(self):\n",
    "        print(\"srcHost:%s\\nsrcPort:%s\\ndstHost:%s\\ndstPort:%s\\nproto:%s\\n\" % (self.src_host,self.src_port,self.dst_host,self.dst_port,self.proto))"
   ]
  },
  {
   "cell_type": "code",
   "execution_count": 100,
   "metadata": {},
   "outputs": [],
   "source": [
    "def split_packet_flows(capture_file,split_dir,base_filename):\n",
    "    line_one = ''\n",
    "    line_two = ''\n",
    "    packet_connection_map = connection_map()\n",
    "    \n",
    "    #Ensure that the split flows directory exists\n",
    "    try:\n",
    "        os.mkdir(split_dir)\n",
    "    except FileExistsError:\n",
    "        pass #We don't care if the directory already exists    \n",
    "    \n",
    "    #Loop through the capture file searching for normal packets, ignore everything else.\n",
    "    with open(capture_file,'r') as src:\n",
    "        for line in src:\n",
    "            line_one = line_two\n",
    "            line_two = line\n",
    "            line_pair = line_one + line_two\n",
    "            \n",
    "            packet_match = re.match(packet_match_regex,line_pair,re.MULTILINE)\n",
    "            if(packet_match):\n",
    "                cur_packet = packet(packet_match.group('srcHost'),packet_match.group('srcPort'),packet_match.group('dstHost'),packet_match.group('dstPort'),packet_match.group('proto'),line_pair,packet_match.group('ipLength'),packet_match.group('tcpLength'))\n",
    "                connection_idx = packet_connection_map.get_connection_index(cur_packet)\n",
    "                \n",
    "                split_file_path = split_dir + os.sep + base_filename + '.' + str(connection_idx) + '.cap'\n",
    "                #Write packet to file with connection index\n",
    "                with open(split_file_path,'a') as split_dst:\n",
    "                    split_dst.write(cur_packet.packet_string+os.linesep)\n",
    "    packet_connection_map.write_connection_map_to_file(split_dir+os.sep+'connections.map')\n",
    "def get_packets_in_file(capture_file):\n",
    "    line_one = ''\n",
    "    line_two = ''\n",
    "    packets = list()\n",
    "    with open(capture_file,'r') as src:\n",
    "        for line in src:\n",
    "            line_one = line_two\n",
    "            line_two = line\n",
    "            line_pair = line_one + line_two\n",
    "            \n",
    "            packet_match = re.match(packet_match_regex,line_pair,re.MULTILINE)\n",
    "            if(packet_match):\n",
    "                cur_packet = packet(packet_match.group('srcHost'),packet_match.group('srcPort'),packet_match.group('dstHost'),packet_match.group('dstPort'),packet_match.group('proto'),line_pair,packet_match.group('ipLength'),packet_match.group('tcpLength'))\n",
    "                packets.append(cur_packet)\n",
    "    return packets"
   ]
  },
  {
   "cell_type": "code",
   "execution_count": 101,
   "metadata": {},
   "outputs": [
    {
     "name": "stdout",
     "output_type": "stream",
     "text": [
      "captures\\games\\hon\\hon_raw_capture10.cap\n",
      "captures_split\\games\\hon\\hon_raw_capture10\n",
      "hon_raw_capture10\n"
     ]
    }
   ],
   "source": [
    "try:\n",
    "    for x in os.walk(capture_src): #each os.walk element is: dirpath, subdir-names, dir-filenames\n",
    "        outdir = x[0].replace(capture_src,capture_dst)\n",
    "        try:\n",
    "            os.mkdir(outdir)\n",
    "        except FileExistsError:\n",
    "            pass #We don't care if the directory already exists\n",
    "        for capture in x[2]:\n",
    "            if capture.endswith(\".cap\"):\n",
    "                base_file = capture[:-4]\n",
    "                date_file = base_file + '.date'\n",
    "                src_file = x[0]+os.sep+capture\n",
    "                split_dir = (x[0]+os.sep+base_file).replace('captures','captures_split')\n",
    "                print(src_file)\n",
    "                print(split_dir)\n",
    "                print(base_file)\n",
    "                split_packet_flows(src_file,split_dir,base_file)\n",
    "                raise KeyboardInterrupt\n",
    "                '''\n",
    "                capture_packets = get_packets_in_file(x[0]+\"\\\\\"+capture)\n",
    "                \n",
    "                for packet in capture_packets:\n",
    "                    print(packet)\n",
    "                    raise KeyboardInterrupt\n",
    "                '''\n",
    "                        \n",
    "except KeyboardInterrupt:\n",
    "    pass\n",
    "            \n",
    "    #print(outdir)"
   ]
  },
  {
   "cell_type": "code",
   "execution_count": 53,
   "metadata": {},
   "outputs": [],
   "source": [
    "#Isolate the outputs into <src_name>.connectionNumber.cap\n",
    "##Then plot the connections onto a single graph.\n",
    "###The dominant connection in a packet capture is the one you keep"
   ]
  },
  {
   "cell_type": "code",
   "execution_count": null,
   "metadata": {},
   "outputs": [],
   "source": []
  }
 ],
 "metadata": {
  "kernelspec": {
   "display_name": "Python 3",
   "language": "python",
   "name": "python3"
  },
  "language_info": {
   "codemirror_mode": {
    "name": "ipython",
    "version": 3
   },
   "file_extension": ".py",
   "mimetype": "text/x-python",
   "name": "python",
   "nbconvert_exporter": "python",
   "pygments_lexer": "ipython3",
   "version": "3.6.6"
  }
 },
 "nbformat": 4,
 "nbformat_minor": 2
}
