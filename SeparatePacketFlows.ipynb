{
 "cells": [
  {
   "cell_type": "code",
   "execution_count": 41,
   "metadata": {},
   "outputs": [],
   "source": [
    "import matplotlib\n",
    "import re\n",
    "import os\n",
    "import sys\n",
    "\n",
    "##Current Step: Start plotting connection indexes by IP Header Size\n",
    "##Current Step: Start writing out packet_strings to files separated by connection index."
   ]
  },
  {
   "cell_type": "code",
   "execution_count": 42,
   "metadata": {},
   "outputs": [],
   "source": [
    "capture_src = 'captures'\n",
    "capture_dst = 'captures_split'\n",
    "processed = 'processed_log.txt'"
   ]
  },
  {
   "cell_type": "code",
   "execution_count": 47,
   "metadata": {},
   "outputs": [],
   "source": [
    "class connection_map:\n",
    "    connection_list = list()\n",
    "    def __init__(self):\n",
    "        self.connection_list = list()\n",
    "    def get_connection_index(self,packet):\n",
    "        connection_string = \"%s:%s-%s:%s-%s\"%(packet.src_host,packet.src_port,packet.dst_host,packet.dst_port,packet.proto)\n",
    "        try:\n",
    "            connection_index = self.connection_list.index(connection_string)\n",
    "        except ValueError:\n",
    "            self.connection_list.append(connection_string)\n",
    "            return self.connection_list.index(connection_string)\n"
   ]
  },
  {
   "cell_type": "code",
   "execution_count": 48,
   "metadata": {},
   "outputs": [],
   "source": [
    "class packet:\n",
    "    packet_string = \"\"\n",
    "    src_host = \"\"\n",
    "    src_port = \"\"\n",
    "    dst_host = \"\"\n",
    "    dst_port = \"\"\n",
    "    proto = \"\"\n",
    "    def __init__(self,src_host,src_port,dst_host,dst_port,proto,packet_string):\n",
    "        self.src_host = src_host\n",
    "        self.src_port = src_port\n",
    "        self.dst_host = dst_host\n",
    "        self.dst_port = dst_port\n",
    "        self.proto = proto\n",
    "        self.packet_string = packet_string\n",
    "    def to_string(self):\n",
    "        print(\"srcHost:%s\\nsrcPort:%s\\ndstHost:%s\\ndstPort:%s\\nproto:%s\\n\" % (self.src_host,self.src_port,self.dst_host,self.dst_port,self.proto))"
   ]
  },
  {
   "cell_type": "code",
   "execution_count": 51,
   "metadata": {},
   "outputs": [],
   "source": [
    "def get_packets_in_file(capture_file):\n",
    "    '''\n",
    "    packet_capture_file = open(capture_file,'r')\n",
    "    packet_capture_records = packet_capture_file.read()\n",
    "    packet_capture_file.close()\n",
    "    packets = re.findall(\".*IP.*length.*Flags.*length.*\\n\",packet_capture_records,re.MULTILINE)\n",
    "    '''\n",
    "    #debug\n",
    "    temp = 0\n",
    "    \n",
    "    line_one = ''\n",
    "    line_two = ''\n",
    "    packet_connection_map = connection_map()\n",
    "    with open(capture_file,'r') as src:\n",
    "        for line in src:\n",
    "            line_one = line_two\n",
    "            line_two = line\n",
    "            line_pair = line_one + line_two\n",
    "            \n",
    "            packet_match = re.match(r'.*IP.*proto\\W(?P<proto>\\w+).*length.*\\r?\\n\\W*(?P<srcHost>[\\w\\.]+)\\.(?P<srcPort>[\\w]+)\\W\\>\\W(?P<dstHost>[\\w\\.]+)\\.(?P<dstPort>[\\w]+).*Flags.*length.*',line_pair,re.MULTILINE)\n",
    "            if(packet_match):\n",
    "                cur_packet = packet(packet_match.group('srcHost'),packet_match.group('srcPort'),packet_match.group('dstHost'),packet_match.group('dstPort'),packet_match.group('proto'),line_pair)\n",
    "                connection_idx = packet_connection_map.get_connection_index(cur_packet)\n",
    "                \n",
    "                print(\"Connection_Index:%s\"%connection_idx)\n",
    "                print(line_pair)\n",
    "                print(cur_packet.to_string())\n",
    "                raise KeyboardInterrupt\n",
    "            #Debug Begin\n",
    "            temp = temp +1\n",
    "            if temp == 2:\n",
    "                print(\"Your regex didn't match nub!!!!\")\n",
    "                print(line_pair)\n",
    "                raise KeyboardInterrupt\n",
    "            #Debug End\n",
    "    \n",
    "    return packets"
   ]
  },
  {
   "cell_type": "code",
   "execution_count": 52,
   "metadata": {},
   "outputs": [
    {
     "name": "stdout",
     "output_type": "stream",
     "text": [
      "Connection_Index:0\n",
      "2018-09-30 00:27:33.133058 IP (tos 0x10, ttl 64, id 40973, offset 0, flags [DF], proto TCP (6), length 104)\n",
      "    ShadowSense.shadowdomain.ssh > Shadowscout.shadowdomain.52303: Flags [P.], cksum 0xb439 (correct), seq 2878089682:2878089746, ack 1345784929, win 513, length 64\n",
      "\n",
      "srcHost:ShadowSense.shadowdomain\n",
      "srcPort:ssh\n",
      "dstHost:Shadowscout.shadowdomain\n",
      "dstPort:52303\n",
      "proto:TCP\n",
      "\n",
      "None\n"
     ]
    }
   ],
   "source": [
    "try:\n",
    "    for x in os.walk(capture_src): #each os.walk element is: dirpath, subdir-names, dir-filenames\n",
    "        outdir = x[0].replace(capture_src,capture_dst)\n",
    "        try:\n",
    "            os.mkdir(outdir)\n",
    "        except FileExistsError:\n",
    "            pass #We don't care if the directory already exists\n",
    "        for capture in x[2]:\n",
    "            if capture.endswith(\".cap\"):\n",
    "                base_file = capture[:-4]\n",
    "                date_file = base_file + '.date'\n",
    "                capture_packets = get_packets_in_file(x[0]+\"\\\\\"+capture)\n",
    "                \n",
    "                for packet in capture_packets:\n",
    "                    print(packet)\n",
    "                    raise KeyboardInterrupt\n",
    "\n",
    "                        \n",
    "except KeyboardInterrupt:\n",
    "    pass\n",
    "            \n",
    "    #print(outdir)"
   ]
  },
  {
   "cell_type": "code",
   "execution_count": 53,
   "metadata": {},
   "outputs": [],
   "source": [
    "#Isolate the outputs into <src_name>.connectionNumber.cap\n",
    "##Then plot the connections onto a single graph.\n",
    "###The dominant connection in a packet capture is the one you keep"
   ]
  },
  {
   "cell_type": "code",
   "execution_count": null,
   "metadata": {},
   "outputs": [],
   "source": []
  }
 ],
 "metadata": {
  "kernelspec": {
   "display_name": "Python 3",
   "language": "python",
   "name": "python3"
  },
  "language_info": {
   "codemirror_mode": {
    "name": "ipython",
    "version": 3
   },
   "file_extension": ".py",
   "mimetype": "text/x-python",
   "name": "python",
   "nbconvert_exporter": "python",
   "pygments_lexer": "ipython3",
   "version": "3.6.6"
  }
 },
 "nbformat": 4,
 "nbformat_minor": 2
}
