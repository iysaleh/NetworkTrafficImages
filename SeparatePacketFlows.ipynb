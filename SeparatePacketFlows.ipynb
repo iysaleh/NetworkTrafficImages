{
 "cells": [
  {
   "cell_type": "code",
   "execution_count": 14,
   "metadata": {},
   "outputs": [],
   "source": [
    "import matplotlib\n",
    "import re\n",
    "import os\n",
    "import sys"
   ]
  },
  {
   "cell_type": "code",
   "execution_count": 3,
   "metadata": {},
   "outputs": [],
   "source": [
    "capture_src = 'captures'\n",
    "capture_dst = 'captures_split'\n",
    "processed = 'processed_log.txt'"
   ]
  },
  {
   "cell_type": "code",
   "execution_count": 4,
   "metadata": {},
   "outputs": [],
   "source": [
    "x = os.walk(\"captures\")\n",
    "#each os.walk element is: dirpath, subdir-names, dir-filenames"
   ]
  },
  {
   "cell_type": "code",
   "execution_count": 20,
   "metadata": {},
   "outputs": [
    {
     "name": "stdout",
     "output_type": "stream",
     "text": [
      "2018-09-30 00:27:33.133058 IP (tos 0x10, ttl 64, id 40973, offset 0, flags [DF], proto TCP (6), length 104)\n",
      "\n",
      "    ShadowSense.shadowdomain.ssh > Shadowscout.shadowdomain.52303: Flags [P.], cksum 0xb439 (correct), seq 2878089682:2878089746, ack 1345784929, win 513, length 64\n",
      "\n"
     ]
    }
   ],
   "source": [
    "try:\n",
    "    for x in os.walk(capture_src):\n",
    "        outdir = x[0].replace(capture_src,capture_dst)\n",
    "        try:\n",
    "            os.mkdir(outdir)\n",
    "        except FileExistsError:\n",
    "            pass #We don't care if the directory already exists\n",
    "        for capture in x[2]:\n",
    "            if capture.endswith(\".cap\"):\n",
    "                base_file = capture[:-4]\n",
    "                date_file = base_file + '.date'\n",
    "                with open(x[0]+\"\\\\\"+capture,'r') as src:\n",
    "                    for line in src:\n",
    "                        print(line)\n",
    "                        next_line = next(src)\n",
    "                        print(next_line)\n",
    "                        raise KeyboardInterrupt\n",
    "except KeyboardInterrupt:\n",
    "    pass\n",
    "            \n",
    "    #print(outdir)"
   ]
  },
  {
   "cell_type": "code",
   "execution_count": null,
   "metadata": {},
   "outputs": [],
   "source": [
    "#Isolate the outputs into <src_name>.connectionNumber.cap\n",
    "##Then plot the connections onto a single graph.\n",
    "###The dominant connection in a packet capture is the one you keep"
   ]
  }
 ],
 "metadata": {
  "kernelspec": {
   "display_name": "Python 3",
   "language": "python",
   "name": "python3"
  },
  "language_info": {
   "codemirror_mode": {
    "name": "ipython",
    "version": 3
   },
   "file_extension": ".py",
   "mimetype": "text/x-python",
   "name": "python",
   "nbconvert_exporter": "python",
   "pygments_lexer": "ipython3",
   "version": "3.6.6"
  }
 },
 "nbformat": 4,
 "nbformat_minor": 2
}
