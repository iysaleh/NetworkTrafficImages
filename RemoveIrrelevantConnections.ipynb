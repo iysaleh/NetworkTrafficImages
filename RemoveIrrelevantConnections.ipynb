{
 "cells": [
  {
   "cell_type": "code",
   "execution_count": 1,
   "metadata": {},
   "outputs": [],
   "source": [
    "import matplotlib\n",
    "import re\n",
    "import os\n",
    "import sys\n",
    "import time\n",
    "from datetime import datetime\n",
    "import csv\n",
    "\n",
    "#This python notebook goes through a captures split directory and, for each connections.map file, removes the connections that are not specified in the file.\n",
    "##The idea is that the unwanted connections have been removed from the connections.map file.\n",
    "\n",
    "##Note that this irrevocably deletes files so BE CAREFUL!"
   ]
  },
  {
   "cell_type": "code",
   "execution_count": 2,
   "metadata": {},
   "outputs": [],
   "source": [
    "capture_src = 'captures_selected'"
   ]
  },
  {
   "cell_type": "code",
   "execution_count": 3,
   "metadata": {},
   "outputs": [
    {
     "name": "stdout",
     "output_type": "stream",
     "text": [
      "captures_selected\\bulk_download\\battlenet\\battlenet_raw_capture1\\connections.csv\n",
      "captures_selected\\bulk_download\\battlenet\\battlenet_raw_capture2\\connections.csv\n",
      "captures_selected\\bulk_download\\battlenet\\battlenet_raw_capture3\\connections.csv\n",
      "captures_selected\\bulk_download\\origin\\origin_raw_capture1\\connections.csv\n",
      "captures_selected\\bulk_download\\origin\\origin_raw_capture2\\connections.csv\n",
      "captures_selected\\bulk_download\\origin\\origin_raw_capture3\\connections.csv\n",
      "captures_selected\\bulk_download\\steam\\steam_raw_capture1\\connections.csv\n",
      "captures_selected\\bulk_download\\steam\\steam_raw_capture2\\connections.csv\n",
      "captures_selected\\games\\csgo\\csgo_raw_capture1\\connections.csv\n",
      "captures_selected\\games\\csgo\\csgo_raw_capture2\\connections.csv\n",
      "captures_selected\\games\\csgo\\csgo_raw_capture3\\connections.csv\n",
      "captures_selected\\games\\csgo\\csgo_raw_capture4\\connections.csv\n",
      "captures_selected\\games\\dota2\\dota_raw_capture1\\connections.csv\n",
      "captures_selected\\games\\hon\\hon_raw_capture1\\connections.csv\n",
      "captures_selected\\games\\hon\\hon_raw_capture10\\connections.csv\n",
      "captures_selected\\games\\hon\\hon_raw_capture11\\connections.csv\n",
      "captures_selected\\games\\hon\\hon_raw_capture12\\connections.csv\n",
      "captures_selected\\games\\hon\\hon_raw_capture13\\connections.csv\n",
      "captures_selected\\games\\hon\\hon_raw_capture14\\connections.csv\n",
      "captures_selected\\games\\hon\\hon_raw_capture15\\connections.csv\n",
      "captures_selected\\games\\hon\\hon_raw_capture16\\connections.csv\n",
      "captures_selected\\games\\hon\\hon_raw_capture17\\connections.csv\n",
      "captures_selected\\games\\hon\\hon_raw_capture19\\connections.csv\n",
      "captures_selected\\games\\hon\\hon_raw_capture2\\connections.csv\n",
      "captures_selected\\games\\hon\\hon_raw_capture20\\connections.csv\n",
      "captures_selected\\games\\hon\\hon_raw_capture3\\connections.csv\n",
      "captures_selected\\games\\hon\\hon_raw_capture4\\connections.csv\n",
      "captures_selected\\games\\hon\\hon_raw_capture5\\connections.csv\n",
      "captures_selected\\games\\hon\\hon_raw_capture6\\connections.csv\n",
      "captures_selected\\games\\hon\\hon_raw_capture7\\connections.csv\n",
      "captures_selected\\games\\hon\\hon_raw_capture9\\connections.csv\n",
      "captures_selected\\streams\\twitch\\twitch_raw_capture1\\connections.csv\n",
      "captures_selected\\streams\\twitch\\twitch_raw_capture2\\connections.csv\n",
      "captures_selected\\streams\\twitch\\twitch_raw_capture3\\connections.csv\n",
      "captures_selected\\streams\\twitch\\twitch_raw_capture4\\connections.csv\n",
      "captures_selected\\streams\\twitch\\twitch_raw_capture5\\connections.csv\n",
      "captures_selected\\streams\\twitch\\twitch_raw_capture6\\connections.csv\n",
      "captures_selected\\streams\\twitch\\twitch_raw_capture7\\connections.csv\n",
      "captures_selected\\streams\\youtube\\youtube_raw_capture1\\connections.csv\n",
      "captures_selected\\torrents\\torrents_raw_capture1\\connections.csv\n",
      "captures_selected\\torrents\\torrents_raw_capture2\\connections.csv\n",
      "captures_selected\\torrents\\torrents_raw_capture3\\connections.csv\n",
      "captures_selected\\video_conferencing\\joinme\\joinme_raw_capture1\\connections.csv\n",
      "captures_selected\\video_conferencing\\webex\\webex_raw_capture1\\connections.csv\n",
      "captures_selected\\video_conferencing\\webex\\webex_raw_capture2\\connections.csv\n",
      "captures_selected\\video_conferencing\\webex\\webex_raw_capture3\\connections.csv\n",
      "captures_selected\\video_conferencing\\webex\\webex_raw_capture4\\connections.csv\n",
      "captures_selected\\video_conferencing\\webex\\webex_raw_capture5\\connections.csv\n"
     ]
    }
   ],
   "source": [
    "try:\n",
    "    for x in os.walk(capture_src): #each os.walk element is: dirpath, subdir-names, dir-filenames\n",
    "        connections_files = list()\n",
    "        for file in x[2]:\n",
    "            if file.endswith(\".csv\"):\n",
    "                print(x[0]+os.sep+file)\n",
    "                with open(x[0]+os.sep+file,'r') as connections_file:\n",
    "                    for line in connections_file:\n",
    "                        line_index = line.split(\",\")[0]\n",
    "                        capture_name = x[0].split(\"\\\\\")[-1]+\".\"+line_index+\".cap\"\n",
    "                        connections_files.append(capture_name)\n",
    "        for file in x[2]:\n",
    "            if file.endswith(\".cap\"):\n",
    "                if file in connections_files:\n",
    "                    continue\n",
    "                else:\n",
    "                    os.remove(x[0]+os.sep+file)\n",
    "                        \n",
    "except KeyboardInterrupt:\n",
    "    pass"
   ]
  },
  {
   "cell_type": "code",
   "execution_count": null,
   "metadata": {},
   "outputs": [],
   "source": []
  }
 ],
 "metadata": {
  "kernelspec": {
   "display_name": "Python 3",
   "language": "python",
   "name": "python3"
  },
  "language_info": {
   "codemirror_mode": {
    "name": "ipython",
    "version": 3
   },
   "file_extension": ".py",
   "mimetype": "text/x-python",
   "name": "python",
   "nbconvert_exporter": "python",
   "pygments_lexer": "ipython3",
   "version": "3.5.3"
  }
 },
 "nbformat": 4,
 "nbformat_minor": 2
}
